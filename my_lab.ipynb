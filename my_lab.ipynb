{
 "cells": [
  {
   "cell_type": "code",
   "execution_count": 27,
   "metadata": {},
   "outputs": [],
   "source": [
    "import torch.nn as nn\n",
    "import torch\n",
    "import matplotlib.image as matImage\n",
    "import os\n",
    "\n",
    "from models import HN\n",
    "from utils import *\n",
    "\n",
    "\n",
    "net = HN()\n",
    "device_ids = [0]\n",
    "model = nn.DataParallel(net, device_ids=device_ids).cuda()\n",
    "model.load_state_dict(torch.load(os.path.join('data/models_SWCNN', \"HNperL1n2nalpha1.0.pth\")))\n",
    "model.eval()\n",
    "\n",
    "def normalize(data):\n",
    "    return data / 255.\n",
    "\n",
    "Img = cv2.imread(\"data/my_images/穿越到一个玄幻世界的文科生-watermarked.png\")\n",
    "Img = normalize(np.float32(Img[:, :, :]))\n",
    "Img = np.expand_dims(Img, 0)\n",
    "Img = np.transpose(Img, (0, 3, 1, 2))\n",
    "_, _, w, h = Img.shape\n",
    "w = int(int(w / 32) * 32)\n",
    "h = int(int(h / 32) * 32)\n",
    "Img = Img[:, :, 0:w, 0:h]\n",
    "ISource = torch.Tensor(Img)\n",
    "\n",
    "with torch.no_grad():\n",
    "    Out = torch.clamp(model(ISource), 0., 1.)\n",
    "Out_np = Out.cpu().numpy()\n",
    "pic = Out_np[0]\n",
    "\n",
    "r, g, b = pic[0], pic[1], pic[2]\n",
    "b = b[None, :, :]\n",
    "r = r[None, :, :]\n",
    "g = g[None, :, :]\n",
    "pic = np.concatenate((b, g, r), axis=0)\n",
    "pic = np.transpose(pic, (1, 2, 0))\n",
    "matImage.imsave(\"data/my_images/out.jpg\", pic)"
   ]
  },
  {
   "cell_type": "code",
   "execution_count": null,
   "metadata": {},
   "outputs": [],
   "source": []
  }
 ],
 "metadata": {
  "kernelspec": {
   "display_name": "py39torch",
   "language": "python",
   "name": "python3"
  },
  "language_info": {
   "codemirror_mode": {
    "name": "ipython",
    "version": 3
   },
   "file_extension": ".py",
   "mimetype": "text/x-python",
   "name": "python",
   "nbconvert_exporter": "python",
   "pygments_lexer": "ipython3",
   "version": "3.9.19"
  }
 },
 "nbformat": 4,
 "nbformat_minor": 2
}
